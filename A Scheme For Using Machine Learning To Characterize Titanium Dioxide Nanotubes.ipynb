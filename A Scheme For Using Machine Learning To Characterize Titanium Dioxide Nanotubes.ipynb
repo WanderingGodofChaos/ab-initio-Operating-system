{
  "nbformat": 4,
  "nbformat_minor": 0,
  "metadata": {
    "colab": {
      "provenance": [],
      "include_colab_link": true
    },
    "kernelspec": {
      "name": "python3",
      "display_name": "Python 3"
    },
    "language_info": {
      "name": "python"
    }
  },
  "cells": [
    {
      "cell_type": "markdown",
      "metadata": {
        "id": "view-in-github",
        "colab_type": "text"
      },
      "source": [
        "<a href=\"https://colab.research.google.com/github/WanderingGodofChaos/ab-initio-Operating-system/blob/main/A%20Scheme%20For%20Using%20Machine%20Learning%20To%20Characterize%20Titanium%20Dioxide%20Nanotubes.ipynb\" target=\"_parent\"><img src=\"https://colab.research.google.com/assets/colab-badge.svg\" alt=\"Open In Colab\"/></a>"
      ]
    },
    {
      "cell_type": "code",
      "metadata": {
        "colab": {
          "base_uri": "https://localhost:8080/",
          "height": 35
        },
        "id": "XvEU7uJnilAd",
        "outputId": "96e98b34-0ec1-49e4-c476-53f012acb7cf"
      },
      "source": [
        "'''\n",
        "PCA\n",
        "\n",
        "'''"
      ],
      "execution_count": null,
      "outputs": [
        {
          "output_type": "execute_result",
          "data": {
            "application/vnd.google.colaboratory.intrinsic+json": {
              "type": "string"
            },
            "text/plain": [
              "'\\nPCA\\n\\n'"
            ]
          },
          "metadata": {},
          "execution_count": 2
        }
      ]
    },
    {
      "cell_type": "code",
      "metadata": {
        "id": "7jWSv0Yji3fd",
        "colab": {
          "base_uri": "https://localhost:8080/"
        },
        "outputId": "58478956-60cb-43e6-fa79-2d4dfb000171"
      },
      "source": [
        "!pip install pandas\n",
        "import pandas as pd\n",
        "import matplotlib.pyplot as plt\n",
        "from sklearn.decomposition import PCA\n",
        "from sklearn.preprocessing import StandardScaler\n",
        "import numpy as np\n",
        "from sklearn import datasets\n",
        "import matplotlib.pyplot as plt\n",
        "from sklearn import cluster\n",
        "from google.colab import files\n",
        "\n",
        "%matplotlib inline"
      ],
      "execution_count": null,
      "outputs": [
        {
          "output_type": "stream",
          "name": "stdout",
          "text": [
            "Requirement already satisfied: pandas in /usr/local/lib/python3.7/dist-packages (1.1.5)\n",
            "Requirement already satisfied: pytz>=2017.2 in /usr/local/lib/python3.7/dist-packages (from pandas) (2018.9)\n",
            "Requirement already satisfied: numpy>=1.15.4 in /usr/local/lib/python3.7/dist-packages (from pandas) (1.19.5)\n",
            "Requirement already satisfied: python-dateutil>=2.7.3 in /usr/local/lib/python3.7/dist-packages (from pandas) (2.8.2)\n",
            "Requirement already satisfied: six>=1.5 in /usr/local/lib/python3.7/dist-packages (from python-dateutil>=2.7.3->pandas) (1.15.0)\n"
          ]
        }
      ]
    },
    {
      "cell_type": "code",
      "metadata": {
        "id": "TSL8Jy-ji67N",
        "colab": {
          "base_uri": "https://localhost:8080/"
        },
        "outputId": "b170df1d-2c20-4b89-f56b-6101d8492fcb"
      },
      "source": [
        "df = pd.read_csv('Data.csv', header=0)\n",
        "df.head"
      ],
      "execution_count": null,
      "outputs": [
        {
          "output_type": "execute_result",
          "data": {
            "text/plain": [
              "<bound method NDFrame.head of           A1        A2        A3  ...     A7169    A7170  Y-length\n",
              "0   0.001122  0.003845  0.016375  ...  265.4400 -27.2550       438\n",
              "1   0.000650  0.002162  0.010273  ...  243.4000 -12.8930       840\n",
              "2   0.004635  0.011048  0.039528  ...   77.4390   9.6401       550\n",
              "3   0.002518  0.006476  0.023701  ...  109.3400  16.5100       420\n",
              "4   0.004225  0.009564  0.030081  ...  258.1400 -24.0460       280\n",
              "5   0.015462  0.020200  0.035004  ...  184.5900  -8.4542       360\n",
              "6   0.004090  0.010270  0.034971  ...  238.3300 -22.0100       425\n",
              "7   0.003267  0.009628  0.034946  ...  -87.4800 -23.1560       392\n",
              "8   0.001365  0.004610  0.020208  ...   65.0560  22.0010       570\n",
              "9   0.000949  0.003312  0.014823  ...   64.0200  20.8380       540\n",
              "10  0.015390  0.031215  0.074407  ...   58.3260  21.9420       171\n",
              "11  0.018088  0.032497  0.069018  ...   60.1670  21.8610       100\n",
              "12  0.000111  0.000238  0.001468  ...  -28.7330  -5.0435       783\n",
              "13  0.000046  0.000086  0.000365  ...  -40.4610  -6.1866      1207\n",
              "14  0.000047  0.000126  0.000669  ...    2.7514   6.5771       517\n",
              "15  0.000056  0.000092  0.000253  ...   46.4570  11.1980       950\n",
              "16  0.002546  0.005116  0.013259  ...  117.4600   3.5625       422\n",
              "17  0.002350  0.006094  0.023318  ...   61.2220  21.0370       177\n",
              "\n",
              "[18 rows x 7171 columns]>"
            ]
          },
          "metadata": {},
          "execution_count": 4
        }
      ]
    },
    {
      "cell_type": "code",
      "metadata": {
        "id": "6fEYlBcrjAby"
      },
      "source": [
        "#x1= pd.read_csv('Data.csv',skiprows=0, nrows=20)\n",
        "x1=df.drop(labels='Y-length',axis=1).values\n",
        "#y = df['1']\n",
        "#y= pd.read_csv('Data.csv',usecols=['first'])\n",
        "#y = df['Y-length'].values\n",
        "y1 = df.loc[:,['A1']].values"
      ],
      "execution_count": null,
      "outputs": []
    },
    {
      "cell_type": "code",
      "metadata": {
        "colab": {
          "base_uri": "https://localhost:8080/"
        },
        "id": "crYRsTUxloTD",
        "outputId": "7677b34f-3117-476a-af58-33b90f23fdb9"
      },
      "source": [
        "print(x1)"
      ],
      "execution_count": null,
      "outputs": [
        {
          "output_type": "stream",
          "name": "stdout",
          "text": [
            "[[ 1.1220e-03  3.8450e-03  1.6375e-02 ...  2.1447e+02  2.6544e+02\n",
            "  -2.7255e+01]\n",
            " [ 6.5000e-04  2.1620e-03  1.0273e-02 ...  1.9977e+02  2.4340e+02\n",
            "  -1.2893e+01]\n",
            " [ 4.6350e-03  1.1048e-02  3.9528e-02 ...  1.2134e+02  7.7439e+01\n",
            "   9.6401e+00]\n",
            " ...\n",
            " [ 5.6000e-05  9.2000e-05  2.5300e-04 ...  9.3129e+01  4.6457e+01\n",
            "   1.1198e+01]\n",
            " [ 2.5460e-03  5.1160e-03  1.3259e-02 ...  1.3927e+02  1.1746e+02\n",
            "   3.5625e+00]\n",
            " [ 2.3500e-03  6.0940e-03  2.3318e-02 ...  9.6485e+01  6.1222e+01\n",
            "   2.1037e+01]]\n"
          ]
        }
      ]
    },
    {
      "cell_type": "code",
      "metadata": {
        "colab": {
          "base_uri": "https://localhost:8080/"
        },
        "id": "UMpDlti3jDxJ",
        "outputId": "211746d8-4581-4cfe-e4f6-891872135ac3"
      },
      "source": [
        "print (x1.shape, y1.shape)"
      ],
      "execution_count": null,
      "outputs": [
        {
          "output_type": "stream",
          "name": "stdout",
          "text": [
            "(18, 7170) (18, 1)\n"
          ]
        }
      ]
    },
    {
      "cell_type": "code",
      "metadata": {
        "id": "vXgy-PA7jEYx"
      },
      "source": [
        "class convers_pca():\n",
        "    def __init__(self, no_of_components):\n",
        "        self.no_of_components = no_of_components\n",
        "        self.eigen_values = None\n",
        "        self.eigen_vectors = None\n",
        "\n",
        "    def transform(self, x):\n",
        "        return np.dot(x - self.mean, self.projection_matrix.T)\n",
        "\n",
        "    def inverse_transform(self, x):\n",
        "        return np.dot(x, self.projection_matrix) + self.mean\n",
        "\n",
        "    def fit(self, x):\n",
        "        self.no_of_components = x.shape[1] if self.no_of_components is None else self.no_of_components\n",
        "        self.mean = np.mean(x, axis=0)\n",
        "\n",
        "        cov_matrix = np.cov(x - self.mean, rowvar=False)\n",
        "\n",
        "        self.eigen_values, self.eigen_vectors = np.linalg.eig(cov_matrix)\n",
        "        self.eigen_vectors = self.eigen_vectors.T\n",
        "\n",
        "        self.sorted_components = np.argsort(self.eigen_values)[::-1]\n",
        "\n",
        "        self.projection_matrix = self.eigen_vectors[self.sorted_components[:self.no_of_components]]\n",
        "\n",
        "        self.explained_variance = self.eigen_values[self.sorted_components]\n",
        "        self.explained_variance_ratio = self.explained_variance / self.eigen_values.sum()\n",
        ""
      ],
      "execution_count": null,
      "outputs": []
    },
    {
      "cell_type": "code",
      "metadata": {
        "id": "NOJzrZLujHOU"
      },
      "source": [
        "std = StandardScaler()\n",
        "transformed = StandardScaler().fit_transform(x1)"
      ],
      "execution_count": null,
      "outputs": []
    },
    {
      "cell_type": "code",
      "metadata": {
        "id": "AXemb_zVjJ6x"
      },
      "source": [
        "pca = convers_pca(no_of_components=100)\n",
        "pca.fit(transformed)"
      ],
      "execution_count": null,
      "outputs": []
    },
    {
      "cell_type": "code",
      "metadata": {
        "id": "Zrk7CXHUjMkF",
        "colab": {
          "base_uri": "https://localhost:8080/",
          "height": 335
        },
        "outputId": "6d3f9636-73de-4053-fd9e-2857a94953d1"
      },
      "source": [
        "x1_std = pca.transform(transformed)\n",
        "\n",
        "plt.figure()\n",
        "plt.scatter(x1_std[:, 0], x1_std[:,1], c=y1)"
      ],
      "execution_count": null,
      "outputs": [
        {
          "output_type": "stream",
          "name": "stderr",
          "text": [
            "/usr/local/lib/python3.7/dist-packages/numpy/core/_asarray.py:136: ComplexWarning: Casting complex values to real discards the imaginary part\n",
            "  return array(a, dtype, copy=False, order=order, subok=True)\n"
          ]
        },
        {
          "output_type": "execute_result",
          "data": {
            "text/plain": [
              "<matplotlib.collections.PathCollection at 0x7f801d7dded0>"
            ]
          },
          "metadata": {},
          "execution_count": 29
        },
        {
          "output_type": "display_data",
          "data": {
            "image/png": "[encoded data removed]",
            "text/plain": [
              "<Figure size 432x288 with 1 Axes>"
            ]
          },
          "metadata": {
            "needs_background": "light"
          }
        }
      ]
    },
    {
      "cell_type": "code",
      "metadata": {
        "colab": {
          "base_uri": "https://localhost:8080/"
        },
        "id": "UzX6fYIbUvOQ",
        "outputId": "b8833c96-bd37-470a-b013-87a872861756"
      },
      "source": [
        "pca = PCA(n_components=10)\n",
        "pca.fit(x1)"
      ],
      "execution_count": null,
      "outputs": [
        {
          "output_type": "execute_result",
          "data": {
            "text/plain": [
              "PCA(copy=True, iterated_power='auto', n_components=10, random_state=None,\n",
              "    svd_solver='auto', tol=0.0, whiten=False)"
            ]
          },
          "metadata": {},
          "execution_count": 30
        }
      ]
    },
    {
      "cell_type": "code",
      "metadata": {
        "colab": {
          "base_uri": "https://localhost:8080/"
        },
        "id": "XxX1WUrs1ums",
        "outputId": "eecc0e18-cad3-4726-afb2-48fc0ee2832a"
      },
      "source": [
        "print(pca.explained_variance_ratio_)\n",
        "sum(pca.explained_variance_ratio_)"
      ],
      "execution_count": null,
      "outputs": [
        {
          "output_type": "stream",
          "name": "stdout",
          "text": [
            "[0.27950444 0.12949298 0.10521513 0.1024271  0.07607249 0.06530904\n",
            " 0.04531561 0.04035674 0.03649928 0.03046815]\n"
          ]
        },
        {
          "output_type": "execute_result",
          "data": {
            "text/plain": [
              "0.9106609483437581"
            ]
          },
          "metadata": {},
          "execution_count": 31
        }
      ]
    },
    {
      "cell_type": "code",
      "metadata": {
        "colab": {
          "base_uri": "https://localhost:8080/",
          "height": 280
        },
        "id": "WA8vc31JiSc7",
        "outputId": "c0790a33-ccbf-4d6c-f9bc-4f6debca8586"
      },
      "source": [
        "\n",
        "pca_data=pca.fit_transform(x1)\n",
        "percentage_var_explained = pca.explained_variance_ratio_;\n",
        "cum_var_explained=np.cumsum(percentage_var_explained)\n",
        "#plot PCA spectrum\n",
        "plt.figure(1,figsize=(6,4))\n",
        "plt.clf()\n",
        "plt.plot(cum_var_explained,linewidth=2)\n",
        "plt.axis('tight')\n",
        "plt.grid()\n",
        "plt.xlabel('n_components')\n",
        "plt.ylabel('Cumulative_Variance_explained')\n",
        "plt.show()"
      ],
      "execution_count": null,
      "outputs": [
        {
          "output_type": "display_data",
          "data": {
            "image/png": "[encoded data removed]",
            "text/plain": [
              "<Figure size 432x288 with 1 Axes>"
            ]
          },
          "metadata": {
            "needs_background": "light"
          }
        }
      ]
    }
  ]
}